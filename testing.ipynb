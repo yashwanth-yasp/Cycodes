{
 "cells": [
  {
   "cell_type": "code",
   "execution_count": 5,
   "metadata": {},
   "outputs": [
    {
     "name": "stdout",
     "output_type": "stream",
     "text": [
      "This code is run on the file : /home/ydg/.local/share/jupyter/runtime/kernel-22a27a2b-87fb-4707-80fa-49d1cb627234.json\n",
      "['/home/ydg/.local/share/jupyter/runtime/kernel-22a27a2b-87fb-4707-80fa-49d1cb627234.json']\n"
     ]
    }
   ],
   "source": [
    "import subprocess\n",
    "import shlex\n",
    "import sys\n",
    "import argparse\n",
    "\n",
    "def execute(cmd):\n",
    "    if not cmd:\n",
    "        return \n",
    "    output = subprocess.check_output(shlex.split(cmd), stderr = subprocess.STDOUT)\n",
    "    return output.decode()\n",
    "\n",
    "def arguments():\n",
    "    parser = argparse.ArgumentParser(description=  \"pass the argument -o with the python execution for the desired output\")\n",
    "    parser.add_argument(\"-o\", \"--Output\", help = \"Show output\")\n",
    "    args = parser.parse_args()\n",
    "    if args.Output:\n",
    "        print(\"Never gonna give you up , Never gonna let you down...\")\n",
    "\n",
    "\n",
    "def main():\n",
    "    n = len(sys.argv)\n",
    "    print(f\"This code is run on the file : {sys.argv[0]}\")\n",
    "    print(sys.argv)\n",
    "\n",
    "if __name__ == '__main__':\n",
    "    main()"
   ]
  },
  {
   "cell_type": "code",
   "execution_count": null,
   "metadata": {},
   "outputs": [],
   "source": []
  }
 ],
 "metadata": {
  "kernelspec": {
   "display_name": "Python 3",
   "language": "python",
   "name": "python3"
  },
  "language_info": {
   "codemirror_mode": {
    "name": "ipython",
    "version": 3
   },
   "file_extension": ".py",
   "mimetype": "text/x-python",
   "name": "python",
   "nbconvert_exporter": "python",
   "pygments_lexer": "ipython3",
   "version": "3.10.6"
  },
  "orig_nbformat": 4,
  "vscode": {
   "interpreter": {
    "hash": "916dbcbb3f70747c44a77c7bcd40155683ae19c65e1c03b4aa3499c5328201f1"
   }
  }
 },
 "nbformat": 4,
 "nbformat_minor": 2
}
